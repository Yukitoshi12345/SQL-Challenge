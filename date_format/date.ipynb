{
 "cells": [
  {
   "cell_type": "code",
   "execution_count": 2,
   "metadata": {},
   "outputs": [],
   "source": [
    "import pandas as pd"
   ]
  },
  {
   "cell_type": "code",
   "execution_count": 4,
   "metadata": {},
   "outputs": [
    {
     "name": "stdout",
     "output_type": "stream",
     "text": [
      "File has been updated and saved to ../data/employees_updated.csv\n"
     ]
    }
   ],
   "source": [
    "# Load the CSV file\n",
    "file_path = '../data/employees.csv'  # Update with the correct path to your CSV file\n",
    "df = pd.read_csv(file_path)\n",
    "\n",
    "# Convert birth_date and hire_date to the format YYYY-DD-MM\n",
    "df['birth_date'] = pd.to_datetime(df['birth_date'], format='%m/%d/%Y').dt.strftime('%Y-%m-%d')\n",
    "df['hire_date'] = pd.to_datetime(df['hire_date'], format='%m/%d/%Y').dt.strftime('%Y-%m-%d')\n",
    "\n",
    "# Save the updated dataframe to a new CSV file\n",
    "updated_file_path = '../data/employees_updated.csv'  # Update with the desired save path\n",
    "df.to_csv(updated_file_path, index=False)\n",
    "\n",
    "print(f\"File has been updated and saved to {updated_file_path}\")\n",
    "\n"
   ]
  }
 ],
 "metadata": {
  "kernelspec": {
   "display_name": "base",
   "language": "python",
   "name": "python3"
  },
  "language_info": {
   "codemirror_mode": {
    "name": "ipython",
    "version": 3
   },
   "file_extension": ".py",
   "mimetype": "text/x-python",
   "name": "python",
   "nbconvert_exporter": "python",
   "pygments_lexer": "ipython3",
   "version": "3.11.9"
  }
 },
 "nbformat": 4,
 "nbformat_minor": 2
}
